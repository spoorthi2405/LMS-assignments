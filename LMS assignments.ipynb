{
 "cells": [
  {
   "cell_type": "code",
   "execution_count": 1,
   "id": "004e48f3-64fd-45cc-b805-788dd6b4a161",
   "metadata": {},
   "outputs": [
    {
     "name": "stdout",
     "output_type": "stream",
     "text": [
      "Integer Value: 10 | Type: <class 'int'>\n",
      "Float Value: 10.5 | Type: <class 'float'>\n",
      "String Value: Hello | Type: <class 'str'>\n",
      "Boolean Value: True | Type: <class 'bool'>\n"
     ]
    }
   ],
   "source": [
    "# Declaring variables of different data types\n",
    "integer_var = 10         # Integer\n",
    "decimal_var = 10.5       # Float\n",
    "string_var = \"Hello\"    # String\n",
    "boolean_var = True       # Boolean\n",
    "\n",
    "# Printing variables and their types\n",
    "print(\"Integer Value:\", integer_var, \"| Type:\", type(integer_var))\n",
    "print(\"Float Value:\", decimal_var, \"| Type:\", type(decimal_var))\n",
    "print(\"String Value:\", string_var, \"| Type:\", type(string_var))\n",
    "print(\"Boolean Value:\", boolean_var, \"| Type:\", type(boolean_var))\n"
   ]
  },
  {
   "cell_type": "code",
   "execution_count": 3,
   "id": "ada45e76-1932-4a23-bbed-cc0a2ac9d8c0",
   "metadata": {},
   "outputs": [
    {
     "name": "stdout",
     "output_type": "stream",
     "text": [
      "Integer Value: 10 | Type: <class 'int'>\n",
      "Float Value: 10.5 | Type: <class 'float'>\n",
      "String Value: Hello | Type: <class 'str'>\n",
      "Boolean Value: True | Type: <class 'bool'>\n"
     ]
    }
   ],
   "source": [
    "\n",
    "integer_var = 10         # Integer\n",
    "decimal_var = 10.5       # Float\n",
    "string_var = \"Hello\"    # String\n",
    "boolean_var = True       # Boolean\n",
    "\n",
    "# Printing variables and their types\n",
    "print(\"Integer Value:\", integer_var, \"| Type:\", type(integer_var))\n",
    "print(\"Float Value:\", decimal_var, \"| Type:\", type(decimal_var))\n",
    "print(\"String Value:\", string_var, \"| Type:\", type(string_var))\n",
    "print(\"Boolean Value:\", boolean_var, \"| Type:\", type(boolean_var))"
   ]
  },
  {
   "cell_type": "code",
   "execution_count": 5,
   "id": "3621cacd-ae10-40f3-9380-82c9883cbe40",
   "metadata": {},
   "outputs": [
    {
     "name": "stdin",
     "output_type": "stream",
     "text": [
      "Enter marks for subject 1:  78\n",
      "Enter marks for subject 2:  95\n",
      "Enter marks for subject 3:  100\n"
     ]
    },
    {
     "name": "stdout",
     "output_type": "stream",
     "text": [
      "Grade: A\n"
     ]
    }
   ],
   "source": [
    "def calculate_grade(marks):\n",
    "    average = sum(marks) / len(marks)\n",
    "    \n",
    "    if average >= 90:\n",
    "        grade = \"A\"\n",
    "    elif 80 <= average < 90:\n",
    "        grade = \"B\"\n",
    "    elif 70 <= average < 80:\n",
    "        grade = \"C\"\n",
    "    else:\n",
    "        grade = \"Fail\"\n",
    "    \n",
    "    print(f\"Grade: {grade}\")\n",
    "\n",
    "# Taking input from the user\n",
    "marks = []\n",
    "for i in range(3):\n",
    "    mark = float(input(f\"Enter marks for subject {i+1}: \"))\n",
    "    marks.append(mark)\n",
    "\n",
    "calculate_grade(marks)"
   ]
  },
  {
   "cell_type": "code",
   "execution_count": 7,
   "id": "2ce373c7-4cad-4a23-b9a2-220ca5cf6ce9",
   "metadata": {},
   "outputs": [
    {
     "name": "stdin",
     "output_type": "stream",
     "text": [
      "Enter a positive integer:  24\n"
     ]
    },
    {
     "name": "stdout",
     "output_type": "stream",
     "text": [
      "Sum of all even numbers between 1 and 24 is 156\n"
     ]
    }
   ],
   "source": [
    "def sum_of_evens(n):\n",
    "    return sum(i for i in range(2, n+1, 2))\n",
    "\n",
    "# Taking input from the user\n",
    "n = int(input(\"Enter a positive integer: \"))\n",
    "if n > 0:\n",
    "    print(f\"Sum of all even numbers between 1 and {n} is {sum_of_evens(n)}\")\n",
    "else:\n",
    "    print(\"Please enter a positive integer.\")\n"
   ]
  },
  {
   "cell_type": "code",
   "execution_count": 9,
   "id": "0cd61e4c-025f-4f1e-9731-0207d8125186",
   "metadata": {},
   "outputs": [
    {
     "name": "stdin",
     "output_type": "stream",
     "text": [
      "Enter a positive integer:  16\n"
     ]
    },
    {
     "name": "stdout",
     "output_type": "stream",
     "text": [
      "Numbers from 1 to 16 :\n",
      "1\n",
      "2\n",
      "3\n",
      "4\n",
      "5\n",
      "6\n",
      "7\n",
      "8\n",
      "9\n",
      "10\n",
      "11\n",
      "12\n",
      "13\n",
      "14\n",
      "15\n",
      "16\n",
      "Sum of numbers from 1 to 16 is: 136\n"
     ]
    }
   ],
   "source": [
    "def main():\n",
    "    # Ask user for input\n",
    "    n = int(input(\"Enter a positive integer: \"))\n",
    "    \n",
    "    if n <= 0:\n",
    "        print(\"Please enter a positive integer.\")\n",
    "        return\n",
    "    \n",
    "    # Using a for loop to print numbers from 1 to n\n",
    "    print(\"Numbers from 1 to\", n, \":\")\n",
    "    for i in range(1, n + 1):\n",
    "        print(i)\n",
    "    \n",
    "    # Using a while loop to calculate sum of numbers from 1 to n\n",
    "    total = 0\n",
    "    num = 1\n",
    "    while num <= n:\n",
    "        total += num\n",
    "        num += 1\n",
    "    \n",
    "    print(\"Sum of numbers from 1 to\", n, \"is:\", total)\n",
    "\n",
    "# Run the program\n",
    "main()"
   ]
  },
  {
   "cell_type": "code",
   "execution_count": 11,
   "id": "7867dd6f-99c5-4223-98b9-66806595c089",
   "metadata": {},
   "outputs": [
    {
     "name": "stdin",
     "output_type": "stream",
     "text": [
      "Enter a positive integer:  14\n"
     ]
    },
    {
     "name": "stdout",
     "output_type": "stream",
     "text": [
      "The square of 14 is 196\n"
     ]
    }
   ],
   "source": [
    "def calculate_square(n):\n",
    "    \"\"\"Returns the square of n.\"\"\"\n",
    "    return n * n\n",
    "\n",
    "# Main program\n",
    "try:\n",
    "    n = int(input(\"Enter a positive integer: \"))\n",
    "    if n > 0:\n",
    "        print(f\"The square of {n} is {calculate_square(n)}\")\n",
    "    else:\n",
    "        print(\"Please enter a positive integer.\")\n",
    "except ValueError:\n",
    "    print(\"Invalid input! Please enter a valid integer.\")"
   ]
  },
  {
   "cell_type": "code",
   "execution_count": 13,
   "id": "6ce1718e-b61a-4c4c-8aa1-67735ff47228",
   "metadata": {},
   "outputs": [
    {
     "name": "stdout",
     "output_type": "stream",
     "text": [
      "First 2 rows:\n",
      "    Name  Age Department  Salary\n",
      "0   John   28         HR   45000\n",
      "1  Alice   34         IT   60000\n",
      "\n",
      "DataFrame with Bonus column:\n",
      "    Name  Age Department  Salary   Bonus\n",
      "0   John   28         HR   45000  4500.0\n",
      "1  Alice   34         IT   60000  6000.0\n",
      "2    Bob   23  Marketing   35000  3500.0\n",
      "3  Diana   29    Finance   50000  5000.0\n",
      "\n",
      "Average Salary: 47500.0\n",
      "\n",
      "Employees older than 25:\n",
      "    Name  Age Department  Salary   Bonus\n",
      "0   John   28         HR   45000  4500.0\n",
      "1  Alice   34         IT   60000  6000.0\n",
      "3  Diana   29    Finance   50000  5000.0\n"
     ]
    }
   ],
   "source": [
    "import pandas as pd\n",
    "\n",
    "# Creating the DataFrame\n",
    "data = {\n",
    "    \"Name\": [\"John\", \"Alice\", \"Bob\", \"Diana\"],\n",
    "    \"Age\": [28, 34, 23, 29],\n",
    "    \"Department\": [\"HR\", \"IT\", \"Marketing\", \"Finance\"],\n",
    "    \"Salary\": [45000, 60000, 35000, 50000]\n",
    "}\n",
    "df = pd.DataFrame(data)\n",
    "\n",
    "# Display the first 2 rows of the DataFrame\n",
    "print(\"First 2 rows:\")\n",
    "print(df.head(2))\n",
    "\n",
    "# Add a new column 'Bonus' which is 10% of the Salary\n",
    "df[\"Bonus\"] = df[\"Salary\"] * 0.10\n",
    "print(\"\\nDataFrame with Bonus column:\")\n",
    "print(df)\n",
    "\n",
    "# Calculate the average salary\n",
    "average_salary = df[\"Salary\"].mean()\n",
    "print(f\"\\nAverage Salary: {average_salary}\")\n",
    "\n",
    "# Filter and display employees who are older than 25\n",
    "filtered_df = df[df[\"Age\"] > 25]\n",
    "print(\"\\nEmployees older than 25:\")\n",
    "print(filtered_df)\n"
   ]
  },
  {
   "cell_type": "code",
   "execution_count": 17,
   "id": "e4a878be-d30c-4f60-b711-a675cd6aafcd",
   "metadata": {},
   "outputs": [
    {
     "name": "stdout",
     "output_type": "stream",
     "text": [
      "         Date Product Region    Sales  Profit  Quantity\n",
      "0  2023-01-02  Tablet   East  1061.81  236.12         7\n",
      "1  2023-01-06  Laptop  North  1926.07  246.34         8\n",
      "2  2023-01-03  Tablet   East  1597.99  253.17         3\n",
      "3  2023-01-20  Tablet  North  1397.99  242.23         1\n",
      "4  2023-01-04  Laptop   West   734.03  140.36         4\n",
      "             Sales      Profit   Quantity\n",
      "count    20.000000   20.000000  20.000000\n",
      "mean   1186.553000  211.533000   5.050000\n",
      "std     461.528444   66.916251   2.543826\n",
      "min     530.880000   82.160000   1.000000\n",
      "25%     774.517500  166.515000   2.750000\n",
      "50%    1104.865000  214.670000   5.000000\n",
      "75%    1571.080000  248.047500   7.250000\n",
      "max    1954.860000  364.970000   9.000000\n"
     ]
    }
   ],
   "source": [
    "import pandas as pd\n",
    "from io import StringIO\n",
    "\n",
    "# Simulating reading from a CSV file using StringIO\n",
    "data = \"\"\"\n",
    "Date,Product,Region,Sales,Profit,Quantity\n",
    "2023-01-02,Tablet,East,1061.81,236.12,7\n",
    "2023-01-06,Laptop,North,1926.07,246.34,8\n",
    "2023-01-03,Tablet,East,1597.99,253.17,3\n",
    "2023-01-20,Tablet,North,1397.99,242.23,1\n",
    "2023-01-04,Laptop,West,734.03,140.36,4\n",
    "2023-01-17,Tablet,North,733.99,188.66,2\n",
    "2023-01-14,Keyboard,East,587.13,82.16,8\n",
    "2023-01-07,Smartphone,East,1799.26,364.97,4\n",
    "2023-01-11,Smartphone,West,1401.67,306.24,2\n",
    "2023-01-01,Laptop,North,1562.11,170.72,6\n",
    "2023-01-19,Monitor,North,530.88,117.59,6\n",
    "2023-01-12,Laptop,West,1954.86,262.16,4\n",
    "2023-01-09,Monitor,North,1748.66,197.62,6\n",
    "2023-01-10,Smartphone,North,818.51,237.19,2\n",
    "2023-01-08,Laptop,East,772.74,226.51,2\n",
    "2023-01-05,Keyboard,North,775.11,202.83,4\n",
    "2023-01-15,Tablet,North,956.36,153.9,8\n",
    "2023-01-18,Monitor,West,1287.13,153.86,7\n",
    "2023-01-13,Tablet,West,1147.92,271.88,9\n",
    "2023-01-16,Tablet,South,936.84,176.15,8\n",
    "\"\"\"\n",
    "\n",
    "# Loading the data into a DataFrame\n",
    "df = pd.read_csv(StringIO(data))\n",
    "\n",
    "# Displaying the first 5 rows\n",
    "print(df.head())\n",
    "\n",
    "# Getting basic statistics\n",
    "print(df.describe())\n"
   ]
  },
  {
   "cell_type": "code",
   "execution_count": 19,
   "id": "b3a648df-5c07-4a61-8cee-b097c5226ec0",
   "metadata": {},
   "outputs": [
    {
     "name": "stdout",
     "output_type": "stream",
     "text": [
      "Total Sales by Region:\n",
      "Region\n",
      "East      5818.93\n",
      "North    10449.68\n",
      "South      936.84\n",
      "West      6525.61\n",
      "Name: Sales, dtype: float64\n",
      "\n",
      "Most Sold Product: Tablet\n",
      "\n",
      "Average Profit Margin for each Product:\n",
      "Product\n",
      "Keyboard      20.080696\n",
      "Laptop        17.112734\n",
      "Monitor       15.134989\n",
      "Smartphone    23.703647\n",
      "Tablet        19.955758\n",
      "Name: Profit_Margin, dtype: float64\n"
     ]
    }
   ],
   "source": [
    "import pandas as pd\n",
    "from io import StringIO\n",
    "\n",
    "# Simulating reading from a CSV file using StringIO\n",
    "data = \"\"\"\n",
    "Date,Product,Region,Sales,Profit,Quantity\n",
    "2023-01-02,Tablet,East,1061.81,236.12,7\n",
    "2023-01-06,Laptop,North,1926.07,246.34,8\n",
    "2023-01-03,Tablet,East,1597.99,253.17,3\n",
    "2023-01-20,Tablet,North,1397.99,242.23,1\n",
    "2023-01-04,Laptop,West,734.03,140.36,4\n",
    "2023-01-17,Tablet,North,733.99,188.66,2\n",
    "2023-01-14,Keyboard,East,587.13,82.16,8\n",
    "2023-01-07,Smartphone,East,1799.26,364.97,4\n",
    "2023-01-11,Smartphone,West,1401.67,306.24,2\n",
    "2023-01-01,Laptop,North,1562.11,170.72,6\n",
    "2023-01-19,Monitor,North,530.88,117.59,6\n",
    "2023-01-12,Laptop,West,1954.86,262.16,4\n",
    "2023-01-09,Monitor,North,1748.66,197.62,6\n",
    "2023-01-10,Smartphone,North,818.51,237.19,2\n",
    "2023-01-08,Laptop,East,772.74,226.51,2\n",
    "2023-01-05,Keyboard,North,775.11,202.83,4\n",
    "2023-01-15,Tablet,North,956.36,153.9,8\n",
    "2023-01-18,Monitor,West,1287.13,153.86,7\n",
    "2023-01-13,Tablet,West,1147.92,271.88,9\n",
    "2023-01-16,Tablet,South,936.84,176.15,8\n",
    "\"\"\"\n",
    "\n",
    "# Loading the data into a DataFrame\n",
    "df = pd.read_csv(StringIO(data))\n",
    "\n",
    "# 1. Total sales for each region\n",
    "total_sales_region = df.groupby('Region')['Sales'].sum()\n",
    "\n",
    "# 2. Most sold product based on quantity\n",
    "most_sold_product = df.groupby('Product')['Quantity'].sum().idxmax()\n",
    "\n",
    "# 3. Average profit margin for each product\n",
    "df['Profit_Margin'] = (df['Profit'] / df['Sales']) * 100\n",
    "avg_profit_margin_per_product = df.groupby('Product')['Profit_Margin'].mean()\n",
    "\n",
    "# Display results\n",
    "print(\"Total Sales by Region:\")\n",
    "print(total_sales_region)\n",
    "print(\"\\nMost Sold Product:\", most_sold_product)\n",
    "print(\"\\nAverage Profit Margin for each Product:\")\n",
    "print(avg_profit_margin_per_product)\n"
   ]
  },
  {
   "cell_type": "code",
   "execution_count": null,
   "id": "3febb434-e035-477f-b9e5-e47c5a144205",
   "metadata": {},
   "outputs": [],
   "source": []
  }
 ],
 "metadata": {
  "kernelspec": {
   "display_name": "Python 3 (ipykernel)",
   "language": "python",
   "name": "python3"
  },
  "language_info": {
   "codemirror_mode": {
    "name": "ipython",
    "version": 3
   },
   "file_extension": ".py",
   "mimetype": "text/x-python",
   "name": "python",
   "nbconvert_exporter": "python",
   "pygments_lexer": "ipython3",
   "version": "3.12.7"
  }
 },
 "nbformat": 4,
 "nbformat_minor": 5
}
